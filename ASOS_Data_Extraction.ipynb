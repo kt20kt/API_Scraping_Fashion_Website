{
 "cells": [
  {
   "cell_type": "code",
   "execution_count": 1,
   "id": "c4e67a70-8bab-4d4d-b127-682c38bba2ca",
   "metadata": {},
   "outputs": [],
   "source": [
    "import requests\n",
    "import pandas as pd"
   ]
  },
  {
   "cell_type": "code",
   "execution_count": 2,
   "id": "dfd1b7a4-841e-4d47-a1b2-7f4dc81bd900",
   "metadata": {},
   "outputs": [],
   "source": [
    "\n",
    "headers = {\n",
    "    'accept': 'application/json, text/plain, */*',\n",
    "    'accept-language': 'en-GB,en;q=0.9,fr-CA;q=0.8,fr;q=0.7,hi-IN;q=0.6,hi;q=0.5,gu-IN;q=0.4,gu;q=0.3,en-US;q=0.2',\n",
    "    '^asos-c-name': '^@asosteam/asos-web-product-listing-page^',\n",
    "    'asos-c-plat': 'web',\n",
    "    'asos-c-ver': '1.2.0-140e78c7-29',\n",
    "    'asos-cid': '2cfff343-75ad-47ab-a4b4-f2c64e4bfcf1',\n",
    "    '^cookie': 'geocountry=IN; AMCVS_C0137F6A52DEAFCC0A490D4C^%^40AdobeOrg=1; siteChromeVersion=au=12&com=12&de=12&dk=12&es=12&fr=12&it=12&nl=12&pl=12&roe=12&row=12&ru=12&se=12&us=12; keyStoreDataversion=q1av6t0-39; asosAffiliate=affiliateId=17295; browseCountry=IN; s_ecid=MCMID^%^7C08320174231078266423738777204259115256; browseCurrency=GBP; browseLanguage=en-GB; browseSizeSchema=UK; storeCode=ROW; currency=1; featuresId=0e5e1387-eeb0-4feb-9e63-81f3fe1a0c29; asos-b-sdv629=q1av6t0-39; AMCV_C0137F6A52DEAFCC0A490D4C^%^40AdobeOrg=-1303530583^%^7CMCMID^%^7C08320174231078266423738777204259115256^%^7CMCAAMLH-1714837004^%^7C12^%^7CMCAAMB-1714837004^%^7CRKhpRz8krg2tLO6pguXWp5olkAcUniQYPHaMWWgdJ3xzPWQmdj0y^%^7CMCCIDH^%^7C0^%^7CMCOPTOUT-1714239404s^%^7CNONE^%^7CvVersion^%^7C3.3.0^%^7CMCAID^%^7CNONE; _s_fpv=true; stc-welcome-message=cappedPageCount=2; floor=1001; bm_mi=BE89B092D2A6E70E74A4D2710B77955D~YAAQvztAF25Fp8uOAQAAJLEzIBcK3togsGO7bHPMtSrnoWd+T4PyfWyIkok36xwnQ5FH3eaa9FNZQR/u3jn3BXvdckWIuoA9oQe9NvGEa2rVDjsnkdkIrZjXyVotDWqXnf/9vjx0BYwYsy5VIA6FDur81wlXDOSN9sCYrO9nkN8cBMehPkV0NiafOUh+jBTmAzYsFt2XK4gm//xrh0LUW5hWb9UrOsWBrj35osoIS0fez1kuWd7GYrvr052yfAf2IF0q75NM7WNp9xy+kCut25M2y48ewMyO0a05/uY8rkUewT9PXmKNkw8QxeBOZ3PisJ8PANvVqME8aEriIknMRvMB4xpS4M4T~1; ak_bmsc=00BA09FA8C194510B9584C83A65926E9~000000000000000000000000000000~YAAQvztAF3NFp8uOAQAAGrMzIBez5UDvzIIW9fzMejlEs1jTjk6WA1r2L9zEHYx55+ft8S8d5sPt43Bapa70Z1bAi/oerjdfEbhOGS+b7Zf4Zp6ob2sjoV2VdWd+zjhvxHJg8i9bo2b+NRlw19DPfOYzu/s74mW8aka6UlSglpVUlxCrceUsjjOo1IYtSiY8+j1j7Mrp75I4Km3LX2sAFugYEyDGsM8o1uui4K3xFQb5lkYSY8IjzGkRDIqbC7OhojS0LbxWy7oQfbFte3h38Ge0UaaX6IHd2eFvypTnqWiu/68OYvNnxX9qdwkfC02ydrHjBrR+EfWM4ULwUGlPNjVQGbJwW/SeQ4dic0yJ6XsuXiY4NFK/KKLJa+zeN6eYhslZT/Gq4J7uJksgadojuC3+z6M3U+fn0MUfajl7o61G5ALMKBG9FxrtTN8ykMQbTi+vbUtS7zni78hqoa7wLsfWlM1W4hpnFq4dUsET/avzZmBavp9D4ZknB4wHmutdayPZ1FjwWT4Pos7mKMmOgQ==; asos-ts121=40f1359a1dc94441aa2353914f8c3b75; asos-anon12=0e6a714757ac4396a22e579f3651b6e3; asos=PreferredSite=&currencyid=1&currencylabel=GBP&topcatid=1001&customerguid=0e6a714757ac4396a22e579f3651b6e3; asos-perx=0e6a714757ac4396a22e579f3651b6e3^|^|40f1359a1dc94441aa2353914f8c3b75; s_cc=true; bm_sv=E0BA72784B08E0B4D364960474AD0368~YAAQvztAF4BFp8uOAQAAbLozIBdEJFRKikSPT3VFDCKVCps/V777MhkT86PtITztqVDocqXHdUTbGOMqbHanyI3Ac1BXjJnz2iZ53xdIQq9dKkQuv9DgsfinpH2JXuDzFbaEjC1pg0arFDPaqIQ39Jdvx3e/CHREQyW38N6cw5uWBuk0m5Ssr4V2L9so4U+b6jXfb2S4m8Rzu3PVxI/qP75JARjH0LUKVb4uxuhVfk4102whqreGESrxwEGVlw==~1; _gcl_au=1.1.448794925.1714232217; _cs_mk_aa=0.12080461506006257_1714232216938; bt_stdstatus=NOTSTUDENT; bt_utmSource=direct; _abck=EF576F66F846869E4EDE340751F20A41~0~YAAQvDtAF0TWdueOAQAAMNMzIAtKuYzaP3kXXCv+XsKD/+3/+a4VVah22uYL57jRoncfV/1ufcpWBCs+u3gae6L3mIsEOGFrxDCjOEud26+xZWNepVekdpSlYDDb7eYMRcuzUBeJBJBVer12UlIIjbK4UE0BZTL0ziDcaN0enqf67DXHsyhi0psS/7Lr3HzzQeVw1HlZ0veBMnXOvq47Aq459x7IeKYZChYgjCC19s+cZMgWavZPffgwFc6lqT/7z6x9B+0JpyDpuCpIWHVS8d1EgaVqsS+323ZcknlEekiQPQ6te3B40pleOCa+dOGR5ySQ5WLvJ5hu6Phael/8yJcYXTxjeXvtAIo4a+FLYRMTUYz6SMU4ifdkaFJOM9xzP55gOf6Kq1U2L3gYIvKC2j8741Tncg==~-1~-1~-1; _cs_c=0; _ga=GA1.1.662691852.1714232219; FPID=FPID2.2.QyOhaB45AdHyI1Wvf2soHikVhhUe^%^2BsnSKI^%^2BbfQzCjgw^%^3D.1714232219; FPLC=3O9bPapQFE0t1yhtMlUF9nnfVNd4aq8hJObngDPMZkCLXNXx^%^2BuX8KrmOhCmGfi0mUEL9cpcSCnGqxNlrZhJf9jc942hhvi65UsYoAqQiI3cJdwR4R5z673aRUKYvNw^%^3D^%^3D; FPAU=1.1.448794925.1714232217; plp_columsCount=fourColumns; PIM-SESSION-ID=GlMp6RZdFfXuuZxz; FPGSID=1.1714232220.1714232421.G-H5HS29D9X2.WS0kvlAi_LkHgz7TdgQ2DA; akacd_PIM-prd_ah_rollout=3891685222~rv=25~id=d446be4a09bab3ffdeeacb4179a68726; fita.sid.asos=PrilT0F6ZlR3H8FzN3ixDix9eIIbSURk; bm_sz=DF155D4539197EDD23A65D0493C8710B~YAAQvztAF/pJp8uOAQAApC43IBe2rKX96RE1rXkzF/D83rJ3WhBBOQXWkZjcV35BCIhzq+ycmmtmX1zZmgC/y8tUrq9Dq4d1c1SYxGIJzPHR69Wic3cvg2nIoClx2hMwBgISV80K0eRf5ttRm1hlx+yeybVtTNvIAVlhCSHmiIaIzLMxA0QQ/3xr7b9drkAyTj72990ybyMKkUJeHGvtlEhR0pSM15/8hydfgZ2kg4Mkuro3tyVzRaKOlJwJJ0wHMe0AUHb8RcPtLVEXP0AhEXu0J8O5LrShPEHPrVBfgSbc09eonOfRb+zbzuTfARTbds94v65+Wxc7oDVmxScwVui5u7/rDfjIBF0ARiihvjNKdZzKmkUUzi3nzop7TCDiAUsZevyh7NfG0ISyNOlR0Y6SY4CDviwWjBRqMKugxZcxAck6y6AS+iP4DIz7uW7QV7KKRQcP6oTy~3687219~3491121; s_pers=^%^20s_vnum^%^3D1714501800745^%^2526vn^%^253D1^%^7C1714501800745^%^3B^%^20gpv_p6^%^3D^%^2520^%^7C1714234225047^%^3B^%^20gpv_eVar230^%^3Dno^%^2520value^%^7C1714234225073^%^3B^%^20gpv_eVar234^%^3Dno^%^2520value^%^7C1714234225080^%^3B^%^20gpv_eVar193^%^3Dno^%^2520value^%^7C1714234225087^%^3B^%^20eVar225^%^3D9^%^7C1714234238529^%^3B^%^20visitCount^%^3D1^%^7C1714234238553^%^3B^%^20gpv_e231^%^3D87545713-e4a1-4242-8790-1346af4357ba^%^7C1714234241834^%^3B^%^20s_invisit^%^3Dtrue^%^7C1714234241844^%^3B^%^20s_nr^%^3D1714232441855-New^%^7C1745768441855^%^3B^%^20gpv_e47^%^3Dno^%^2520value^%^7C1714234241863^%^3B^%^20gpv_p10^%^3Ddesktop^%^2520row^%^257Ccategory^%^2520page^%^257C28233^%^2520refined^%^7C1714234241877^%^3B; OptanonConsent=isGpcEnabled=0&datestamp=Sat+Apr+27+2024+21^%^3A10^%^3A42+GMT^%^2B0530+(India+Standard+Time)&version=202401.2.0&browserGpcFlag=0&isIABGlobal=false&hosts=&landingPath=https^%^3A^%^2F^%^2Fwww.asos.com^%^2Fmen^%^2Fsale^%^2Fctas^%^2Fsale-edit-6^%^2Fcat^%^2F^%^3Fcid^%^3D28233&groups=C0001^%^3A1^%^2CC0003^%^3A1^%^2CC0004^%^3A1; _cs_id=a076ab53-fbc4-a7b5-9441-ae559ba4789f.1714232219.1.1714232444.1714232219.1628755191.1748396219285; _cs_s=4.0.0.1714234244083; _ga_1JR0QCFRSY=GS1.1.1714232219.1.1.1714232531.0.0.568577761; RT=^\\\\^z=1&dm=asos.com&si=be2626f3-e343-4a66-8eb6-74224225f882&ss=lvi9lcbt&sl=c&tt=l6l&bcn=^%^2F^%^2F684d0d4b.akstat.io^%^2F&obo=1&ld=556r&nu=16ca9quu&cl=77sb^\\\\^; s_sq=asoscomprod^%^3D^%^2526c.^%^2526a.^%^2526activitymap.^%^2526page^%^253Ddesktop^%^252520row^%^25257Ccategory^%^252520page^%^25257C28233^%^252520refined^%^2526link^%^253DLOAD^%^252520MORE^%^2526region^%^253Dplp^%^2526pageIDType^%^253D1^%^2526.activitymap^%^2526.a^%^2526.c^',\n",
    "    'priority': 'u=1, i',\n",
    "    'referer': 'https://www.asos.com/men/sale/ctas/sale-edit-6/cat/?cid=28233&page=2',\n",
    "    '^sec-ch-ua': '^\\\\^Chromium^\\\\^;v=^\\\\^124^\\\\^, ^\\\\^Google',\n",
    "    'sec-ch-ua-mobile': '?0',\n",
    "    '^sec-ch-ua-platform': '^\\\\^Windows^\\\\^^',\n",
    "    'sec-fetch-dest': 'empty',\n",
    "    'sec-fetch-mode': 'cors',\n",
    "    'sec-fetch-site': 'same-origin',\n",
    "    'user-agent': 'Mozilla/5.0 (Windows NT 10.0; Win64; x64) AppleWebKit/537.36 (KHTML, like Gecko) Chrome/124.0.0.0 Safari/537.36',\n",
    "}\n",
    "\n",
    "params = (\n",
    "    ('offset', '0'),\n",
    "    ('store', 'ROW'),\n",
    "    ('lang', 'en-GB'),\n",
    "    ('currency', 'GBP'),\n",
    "    ('rowlength', '4'),\n",
    "    ('channel', 'desktop-web'),\n",
    "    ('country', 'IN'),\n",
    "    ('keyStoreDataversion', 'q1av6t0-39'),\n",
    "    ('limit', '72'),\n",
    ")\n",
    "\n",
    "response = requests.get('https://www.asos.com/api/product/search/v2/categories/28233', headers=headers, params=params)\n"
   ]
  },
  {
   "cell_type": "code",
   "execution_count": 3,
   "id": "6a77aa93-e957-489c-bf0d-de5c9b9e95bc",
   "metadata": {},
   "outputs": [
    {
     "data": {
      "text/plain": [
       "<Response [200]>"
      ]
     },
     "execution_count": 3,
     "metadata": {},
     "output_type": "execute_result"
    }
   ],
   "source": [
    "response"
   ]
  },
  {
   "cell_type": "code",
   "execution_count": 4,
   "id": "e016d5be-6b5a-4775-a5f0-a8f86045d6fc",
   "metadata": {},
   "outputs": [],
   "source": [
    "results_json = response.json()"
   ]
  },
  {
   "cell_type": "code",
   "execution_count": 5,
   "id": "04e50b76-a878-489e-b5d2-f9038283ec66",
   "metadata": {},
   "outputs": [
    {
     "data": {
      "text/plain": [
       "dict_keys(['searchTerm', 'categoryName', 'itemCount', 'redirectUrl', 'products', 'facets', 'diagnostics', 'searchPassMeta', 'queryId', 'discoverSearchProductTypes', 'campaigns'])"
      ]
     },
     "execution_count": 5,
     "metadata": {},
     "output_type": "execute_result"
    }
   ],
   "source": [
    "results_json.keys()"
   ]
  },
  {
   "cell_type": "code",
   "execution_count": 6,
   "id": "f8483bd5-6108-4f6a-a4c9-9ecea7be4a9a",
   "metadata": {},
   "outputs": [],
   "source": [
    "result_items = results_json['products']"
   ]
  },
  {
   "cell_type": "code",
   "execution_count": 7,
   "id": "b5e393fc-ad21-471c-9102-987487bcf36a",
   "metadata": {},
   "outputs": [
    {
     "data": {
      "text/plain": [
       "72"
      ]
     },
     "execution_count": 7,
     "metadata": {},
     "output_type": "execute_result"
    }
   ],
   "source": [
    "len(result_items)"
   ]
  },
  {
   "cell_type": "code",
   "execution_count": 8,
   "id": "3a9295b1-7cf4-40fc-bf99-a487786b85e0",
   "metadata": {},
   "outputs": [
    {
     "data": {
      "text/plain": [
       "'New Balance collegiate logo cap in green'"
      ]
     },
     "execution_count": 8,
     "metadata": {},
     "output_type": "execute_result"
    }
   ],
   "source": [
    "#name\n",
    "result_items[0]['name']"
   ]
  },
  {
   "cell_type": "code",
   "execution_count": 9,
   "id": "e3333d84-e71e-425a-a144-ded3539667a0",
   "metadata": {},
   "outputs": [
    {
     "data": {
      "text/plain": [
       "'New Balance'"
      ]
     },
     "execution_count": 9,
     "metadata": {},
     "output_type": "execute_result"
    }
   ],
   "source": [
    "#name\n",
    "result_items[0]['brandName']"
   ]
  },
  {
   "cell_type": "code",
   "execution_count": 10,
   "id": "77f6caba-5503-476f-b3f7-f85248fde0b2",
   "metadata": {},
   "outputs": [
    {
     "data": {
      "text/plain": [
       "'£8.50'"
      ]
     },
     "execution_count": 10,
     "metadata": {},
     "output_type": "execute_result"
    }
   ],
   "source": [
    "#current_price\n",
    "result_items[0]['price']['current']['text']"
   ]
  },
  {
   "cell_type": "code",
   "execution_count": 11,
   "id": "8c9326fe-7c2e-4c07-ad0f-0bfca8761ed6",
   "metadata": {},
   "outputs": [
    {
     "data": {
      "text/plain": [
       "'£24.00'"
      ]
     },
     "execution_count": 11,
     "metadata": {},
     "output_type": "execute_result"
    }
   ],
   "source": [
    "#previous_price\n",
    "result_items[0]['price']['previous']['text']"
   ]
  },
  {
   "cell_type": "code",
   "execution_count": 16,
   "id": "2dff616c-16ca-42c3-ab49-2a96d591720c",
   "metadata": {},
   "outputs": [],
   "source": [
    "name = []\n",
    "brandname= []\n",
    "current_price = []\n",
    "previous_price = []\n",
    "\n",
    "for result in result_items:\n",
    "\n",
    "    #name\n",
    "    name.append(result['name'])\n",
    "\n",
    "    #brandname\n",
    "    brandname.append(result['brandName'])\n",
    "\n",
    "    #current_price\n",
    "    current_price.append(result['price']['current']['text'])\n",
    "\n",
    "    #previous_price\n",
    "    previous_price.append(result['price']['previous']['text'])\n",
    "    \n",
    "   "
   ]
  },
  {
   "cell_type": "code",
   "execution_count": 19,
   "id": "7c1ac4f6-9b45-4369-b15d-6c16b9df7347",
   "metadata": {},
   "outputs": [],
   "source": [
    "asos_df = pd.DataFrame({'Name': name, 'BrandName': brandname, 'Current Price': current_price, 'Previous Name': previous_price})"
   ]
  },
  {
   "cell_type": "code",
   "execution_count": 20,
   "id": "a9fe2313-964d-48da-91b7-04f47a41f123",
   "metadata": {},
   "outputs": [
    {
     "data": {
      "text/html": [
       "<div>\n",
       "<style scoped>\n",
       "    .dataframe tbody tr th:only-of-type {\n",
       "        vertical-align: middle;\n",
       "    }\n",
       "\n",
       "    .dataframe tbody tr th {\n",
       "        vertical-align: top;\n",
       "    }\n",
       "\n",
       "    .dataframe thead th {\n",
       "        text-align: right;\n",
       "    }\n",
       "</style>\n",
       "<table border=\"1\" class=\"dataframe\">\n",
       "  <thead>\n",
       "    <tr style=\"text-align: right;\">\n",
       "      <th></th>\n",
       "      <th>Name</th>\n",
       "      <th>BrandName</th>\n",
       "      <th>Current Price</th>\n",
       "      <th>Previous Name</th>\n",
       "    </tr>\n",
       "  </thead>\n",
       "  <tbody>\n",
       "    <tr>\n",
       "      <th>0</th>\n",
       "      <td>New Balance collegiate logo cap in green</td>\n",
       "      <td>New Balance</td>\n",
       "      <td>£8.50</td>\n",
       "      <td>£24.00</td>\n",
       "    </tr>\n",
       "    <tr>\n",
       "      <th>1</th>\n",
       "      <td>New Balance cap with embroidered logo in olive</td>\n",
       "      <td>New Balance</td>\n",
       "      <td>£11.00</td>\n",
       "      <td>£21.00</td>\n",
       "    </tr>\n",
       "    <tr>\n",
       "      <th>2</th>\n",
       "      <td>ASOS DESIGN 6mm glass faux pearl necklace in w...</td>\n",
       "      <td>ASOS DESIGN</td>\n",
       "      <td>£6.00</td>\n",
       "      <td>£8.50</td>\n",
       "    </tr>\n",
       "    <tr>\n",
       "      <th>3</th>\n",
       "      <td>COLLUSION knitted balaclava in ecru</td>\n",
       "      <td>Collusion</td>\n",
       "      <td>£5.50</td>\n",
       "      <td>£10.99</td>\n",
       "    </tr>\n",
       "    <tr>\n",
       "      <th>4</th>\n",
       "      <td>ASOS DESIGN 2 pack swim shorts in mid length i...</td>\n",
       "      <td>ASOS DESIGN</td>\n",
       "      <td>£12.00</td>\n",
       "      <td>£30.00</td>\n",
       "    </tr>\n",
       "    <tr>\n",
       "      <th>...</th>\n",
       "      <td>...</td>\n",
       "      <td>...</td>\n",
       "      <td>...</td>\n",
       "      <td>...</td>\n",
       "    </tr>\n",
       "    <tr>\n",
       "      <th>67</th>\n",
       "      <td>ASOS DESIGN oversized t-shirt in white with ba...</td>\n",
       "      <td>ASOS DESIGN</td>\n",
       "      <td>£11.40</td>\n",
       "      <td>£19.00</td>\n",
       "    </tr>\n",
       "    <tr>\n",
       "      <th>68</th>\n",
       "      <td>ASOS DESIGN oversized denim harrington jacket ...</td>\n",
       "      <td>ASOS DESIGN</td>\n",
       "      <td>£31.90</td>\n",
       "      <td>£58.00</td>\n",
       "    </tr>\n",
       "    <tr>\n",
       "      <th>69</th>\n",
       "      <td>ASOS DESIGN oversized t-shirt in brown with co...</td>\n",
       "      <td>ASOS DESIGN</td>\n",
       "      <td>£12.75</td>\n",
       "      <td>£17.00</td>\n",
       "    </tr>\n",
       "    <tr>\n",
       "      <th>70</th>\n",
       "      <td>ASOS DESIGN tapered scuba joggers in navy</td>\n",
       "      <td>ASOS DESIGN</td>\n",
       "      <td>£18.00</td>\n",
       "      <td>£30.00</td>\n",
       "    </tr>\n",
       "    <tr>\n",
       "      <th>71</th>\n",
       "      <td>ADPT loose fit cargo pants in light grey</td>\n",
       "      <td>ADPT</td>\n",
       "      <td>£18.50</td>\n",
       "      <td>£40.00</td>\n",
       "    </tr>\n",
       "  </tbody>\n",
       "</table>\n",
       "<p>72 rows × 4 columns</p>\n",
       "</div>"
      ],
      "text/plain": [
       "                                                 Name    BrandName  \\\n",
       "0            New Balance collegiate logo cap in green  New Balance   \n",
       "1      New Balance cap with embroidered logo in olive  New Balance   \n",
       "2   ASOS DESIGN 6mm glass faux pearl necklace in w...  ASOS DESIGN   \n",
       "3                 COLLUSION knitted balaclava in ecru    Collusion   \n",
       "4   ASOS DESIGN 2 pack swim shorts in mid length i...  ASOS DESIGN   \n",
       "..                                                ...          ...   \n",
       "67  ASOS DESIGN oversized t-shirt in white with ba...  ASOS DESIGN   \n",
       "68  ASOS DESIGN oversized denim harrington jacket ...  ASOS DESIGN   \n",
       "69  ASOS DESIGN oversized t-shirt in brown with co...  ASOS DESIGN   \n",
       "70          ASOS DESIGN tapered scuba joggers in navy  ASOS DESIGN   \n",
       "71           ADPT loose fit cargo pants in light grey         ADPT   \n",
       "\n",
       "   Current Price Previous Name  \n",
       "0          £8.50        £24.00  \n",
       "1         £11.00        £21.00  \n",
       "2          £6.00         £8.50  \n",
       "3          £5.50        £10.99  \n",
       "4         £12.00        £30.00  \n",
       "..           ...           ...  \n",
       "67        £11.40        £19.00  \n",
       "68        £31.90        £58.00  \n",
       "69        £12.75        £17.00  \n",
       "70        £18.00        £30.00  \n",
       "71        £18.50        £40.00  \n",
       "\n",
       "[72 rows x 4 columns]"
      ]
     },
     "execution_count": 20,
     "metadata": {},
     "output_type": "execute_result"
    }
   ],
   "source": [
    "asos_df"
   ]
  },
  {
   "cell_type": "code",
   "execution_count": 22,
   "id": "31bf7df5-64a1-4568-af0c-81ef3fdacfcb",
   "metadata": {},
   "outputs": [],
   "source": [
    "name = []\n",
    "brandname= []\n",
    "current_price = []\n",
    "previous_price = []\n",
    "\n",
    "for i in range(0,1440,72):\n",
    "    \n",
    "    headers = {\n",
    "        'accept': 'application/json, text/plain, */*',\n",
    "        'accept-language': 'en-GB,en;q=0.9,fr-CA;q=0.8,fr;q=0.7,hi-IN;q=0.6,hi;q=0.5,gu-IN;q=0.4,gu;q=0.3,en-US;q=0.2',\n",
    "        '^asos-c-name': '^@asosteam/asos-web-product-listing-page^',\n",
    "        'asos-c-plat': 'web',\n",
    "        'asos-c-ver': '1.2.0-140e78c7-29',\n",
    "        'asos-cid': '2cfff343-75ad-47ab-a4b4-f2c64e4bfcf1',\n",
    "        '^cookie': 'geocountry=IN; AMCVS_C0137F6A52DEAFCC0A490D4C^%^40AdobeOrg=1; siteChromeVersion=au=12&com=12&de=12&dk=12&es=12&fr=12&it=12&nl=12&pl=12&roe=12&row=12&ru=12&se=12&us=12; keyStoreDataversion=q1av6t0-39; asosAffiliate=affiliateId=17295; browseCountry=IN; s_ecid=MCMID^%^7C08320174231078266423738777204259115256; browseCurrency=GBP; browseLanguage=en-GB; browseSizeSchema=UK; storeCode=ROW; currency=1; featuresId=0e5e1387-eeb0-4feb-9e63-81f3fe1a0c29; asos-b-sdv629=q1av6t0-39; AMCV_C0137F6A52DEAFCC0A490D4C^%^40AdobeOrg=-1303530583^%^7CMCMID^%^7C08320174231078266423738777204259115256^%^7CMCAAMLH-1714837004^%^7C12^%^7CMCAAMB-1714837004^%^7CRKhpRz8krg2tLO6pguXWp5olkAcUniQYPHaMWWgdJ3xzPWQmdj0y^%^7CMCCIDH^%^7C0^%^7CMCOPTOUT-1714239404s^%^7CNONE^%^7CvVersion^%^7C3.3.0^%^7CMCAID^%^7CNONE; _s_fpv=true; stc-welcome-message=cappedPageCount=2; floor=1001; bm_mi=BE89B092D2A6E70E74A4D2710B77955D~YAAQvztAF25Fp8uOAQAAJLEzIBcK3togsGO7bHPMtSrnoWd+T4PyfWyIkok36xwnQ5FH3eaa9FNZQR/u3jn3BXvdckWIuoA9oQe9NvGEa2rVDjsnkdkIrZjXyVotDWqXnf/9vjx0BYwYsy5VIA6FDur81wlXDOSN9sCYrO9nkN8cBMehPkV0NiafOUh+jBTmAzYsFt2XK4gm//xrh0LUW5hWb9UrOsWBrj35osoIS0fez1kuWd7GYrvr052yfAf2IF0q75NM7WNp9xy+kCut25M2y48ewMyO0a05/uY8rkUewT9PXmKNkw8QxeBOZ3PisJ8PANvVqME8aEriIknMRvMB4xpS4M4T~1; ak_bmsc=00BA09FA8C194510B9584C83A65926E9~000000000000000000000000000000~YAAQvztAF3NFp8uOAQAAGrMzIBez5UDvzIIW9fzMejlEs1jTjk6WA1r2L9zEHYx55+ft8S8d5sPt43Bapa70Z1bAi/oerjdfEbhOGS+b7Zf4Zp6ob2sjoV2VdWd+zjhvxHJg8i9bo2b+NRlw19DPfOYzu/s74mW8aka6UlSglpVUlxCrceUsjjOo1IYtSiY8+j1j7Mrp75I4Km3LX2sAFugYEyDGsM8o1uui4K3xFQb5lkYSY8IjzGkRDIqbC7OhojS0LbxWy7oQfbFte3h38Ge0UaaX6IHd2eFvypTnqWiu/68OYvNnxX9qdwkfC02ydrHjBrR+EfWM4ULwUGlPNjVQGbJwW/SeQ4dic0yJ6XsuXiY4NFK/KKLJa+zeN6eYhslZT/Gq4J7uJksgadojuC3+z6M3U+fn0MUfajl7o61G5ALMKBG9FxrtTN8ykMQbTi+vbUtS7zni78hqoa7wLsfWlM1W4hpnFq4dUsET/avzZmBavp9D4ZknB4wHmutdayPZ1FjwWT4Pos7mKMmOgQ==; asos-ts121=40f1359a1dc94441aa2353914f8c3b75; asos-anon12=0e6a714757ac4396a22e579f3651b6e3; asos=PreferredSite=&currencyid=1&currencylabel=GBP&topcatid=1001&customerguid=0e6a714757ac4396a22e579f3651b6e3; asos-perx=0e6a714757ac4396a22e579f3651b6e3^|^|40f1359a1dc94441aa2353914f8c3b75; s_cc=true; bm_sv=E0BA72784B08E0B4D364960474AD0368~YAAQvztAF4BFp8uOAQAAbLozIBdEJFRKikSPT3VFDCKVCps/V777MhkT86PtITztqVDocqXHdUTbGOMqbHanyI3Ac1BXjJnz2iZ53xdIQq9dKkQuv9DgsfinpH2JXuDzFbaEjC1pg0arFDPaqIQ39Jdvx3e/CHREQyW38N6cw5uWBuk0m5Ssr4V2L9so4U+b6jXfb2S4m8Rzu3PVxI/qP75JARjH0LUKVb4uxuhVfk4102whqreGESrxwEGVlw==~1; _gcl_au=1.1.448794925.1714232217; _cs_mk_aa=0.12080461506006257_1714232216938; bt_stdstatus=NOTSTUDENT; bt_utmSource=direct; _abck=EF576F66F846869E4EDE340751F20A41~0~YAAQvDtAF0TWdueOAQAAMNMzIAtKuYzaP3kXXCv+XsKD/+3/+a4VVah22uYL57jRoncfV/1ufcpWBCs+u3gae6L3mIsEOGFrxDCjOEud26+xZWNepVekdpSlYDDb7eYMRcuzUBeJBJBVer12UlIIjbK4UE0BZTL0ziDcaN0enqf67DXHsyhi0psS/7Lr3HzzQeVw1HlZ0veBMnXOvq47Aq459x7IeKYZChYgjCC19s+cZMgWavZPffgwFc6lqT/7z6x9B+0JpyDpuCpIWHVS8d1EgaVqsS+323ZcknlEekiQPQ6te3B40pleOCa+dOGR5ySQ5WLvJ5hu6Phael/8yJcYXTxjeXvtAIo4a+FLYRMTUYz6SMU4ifdkaFJOM9xzP55gOf6Kq1U2L3gYIvKC2j8741Tncg==~-1~-1~-1; _cs_c=0; _ga=GA1.1.662691852.1714232219; FPID=FPID2.2.QyOhaB45AdHyI1Wvf2soHikVhhUe^%^2BsnSKI^%^2BbfQzCjgw^%^3D.1714232219; FPLC=3O9bPapQFE0t1yhtMlUF9nnfVNd4aq8hJObngDPMZkCLXNXx^%^2BuX8KrmOhCmGfi0mUEL9cpcSCnGqxNlrZhJf9jc942hhvi65UsYoAqQiI3cJdwR4R5z673aRUKYvNw^%^3D^%^3D; FPAU=1.1.448794925.1714232217; plp_columsCount=fourColumns; PIM-SESSION-ID=GlMp6RZdFfXuuZxz; FPGSID=1.1714232220.1714232421.G-H5HS29D9X2.WS0kvlAi_LkHgz7TdgQ2DA; akacd_PIM-prd_ah_rollout=3891685222~rv=25~id=d446be4a09bab3ffdeeacb4179a68726; fita.sid.asos=PrilT0F6ZlR3H8FzN3ixDix9eIIbSURk; bm_sz=DF155D4539197EDD23A65D0493C8710B~YAAQvztAF/pJp8uOAQAApC43IBe2rKX96RE1rXkzF/D83rJ3WhBBOQXWkZjcV35BCIhzq+ycmmtmX1zZmgC/y8tUrq9Dq4d1c1SYxGIJzPHR69Wic3cvg2nIoClx2hMwBgISV80K0eRf5ttRm1hlx+yeybVtTNvIAVlhCSHmiIaIzLMxA0QQ/3xr7b9drkAyTj72990ybyMKkUJeHGvtlEhR0pSM15/8hydfgZ2kg4Mkuro3tyVzRaKOlJwJJ0wHMe0AUHb8RcPtLVEXP0AhEXu0J8O5LrShPEHPrVBfgSbc09eonOfRb+zbzuTfARTbds94v65+Wxc7oDVmxScwVui5u7/rDfjIBF0ARiihvjNKdZzKmkUUzi3nzop7TCDiAUsZevyh7NfG0ISyNOlR0Y6SY4CDviwWjBRqMKugxZcxAck6y6AS+iP4DIz7uW7QV7KKRQcP6oTy~3687219~3491121; s_pers=^%^20s_vnum^%^3D1714501800745^%^2526vn^%^253D1^%^7C1714501800745^%^3B^%^20gpv_p6^%^3D^%^2520^%^7C1714234225047^%^3B^%^20gpv_eVar230^%^3Dno^%^2520value^%^7C1714234225073^%^3B^%^20gpv_eVar234^%^3Dno^%^2520value^%^7C1714234225080^%^3B^%^20gpv_eVar193^%^3Dno^%^2520value^%^7C1714234225087^%^3B^%^20eVar225^%^3D9^%^7C1714234238529^%^3B^%^20visitCount^%^3D1^%^7C1714234238553^%^3B^%^20gpv_e231^%^3D87545713-e4a1-4242-8790-1346af4357ba^%^7C1714234241834^%^3B^%^20s_invisit^%^3Dtrue^%^7C1714234241844^%^3B^%^20s_nr^%^3D1714232441855-New^%^7C1745768441855^%^3B^%^20gpv_e47^%^3Dno^%^2520value^%^7C1714234241863^%^3B^%^20gpv_p10^%^3Ddesktop^%^2520row^%^257Ccategory^%^2520page^%^257C28233^%^2520refined^%^7C1714234241877^%^3B; OptanonConsent=isGpcEnabled=0&datestamp=Sat+Apr+27+2024+21^%^3A10^%^3A42+GMT^%^2B0530+(India+Standard+Time)&version=202401.2.0&browserGpcFlag=0&isIABGlobal=false&hosts=&landingPath=https^%^3A^%^2F^%^2Fwww.asos.com^%^2Fmen^%^2Fsale^%^2Fctas^%^2Fsale-edit-6^%^2Fcat^%^2F^%^3Fcid^%^3D28233&groups=C0001^%^3A1^%^2CC0003^%^3A1^%^2CC0004^%^3A1; _cs_id=a076ab53-fbc4-a7b5-9441-ae559ba4789f.1714232219.1.1714232444.1714232219.1628755191.1748396219285; _cs_s=4.0.0.1714234244083; _ga_1JR0QCFRSY=GS1.1.1714232219.1.1.1714232531.0.0.568577761; RT=^\\\\^z=1&dm=asos.com&si=be2626f3-e343-4a66-8eb6-74224225f882&ss=lvi9lcbt&sl=c&tt=l6l&bcn=^%^2F^%^2F684d0d4b.akstat.io^%^2F&obo=1&ld=556r&nu=16ca9quu&cl=77sb^\\\\^; s_sq=asoscomprod^%^3D^%^2526c.^%^2526a.^%^2526activitymap.^%^2526page^%^253Ddesktop^%^252520row^%^25257Ccategory^%^252520page^%^25257C28233^%^252520refined^%^2526link^%^253DLOAD^%^252520MORE^%^2526region^%^253Dplp^%^2526pageIDType^%^253D1^%^2526.activitymap^%^2526.a^%^2526.c^',\n",
    "        'priority': 'u=1, i',\n",
    "        'referer': 'https://www.asos.com/men/sale/ctas/sale-edit-6/cat/?cid=28233&page=2',\n",
    "        '^sec-ch-ua': '^\\\\^Chromium^\\\\^;v=^\\\\^124^\\\\^, ^\\\\^Google',\n",
    "        'sec-ch-ua-mobile': '?0',\n",
    "        '^sec-ch-ua-platform': '^\\\\^Windows^\\\\^^',\n",
    "        'sec-fetch-dest': 'empty',\n",
    "        'sec-fetch-mode': 'cors',\n",
    "        'sec-fetch-site': 'same-origin',\n",
    "        'user-agent': 'Mozilla/5.0 (Windows NT 10.0; Win64; x64) AppleWebKit/537.36 (KHTML, like Gecko) Chrome/124.0.0.0 Safari/537.36',\n",
    "    }\n",
    "    \n",
    "    params = (\n",
    "        ('offset', str(i)),\n",
    "        ('store', 'ROW'),\n",
    "        ('lang', 'en-GB'),\n",
    "        ('currency', 'GBP'),\n",
    "        ('rowlength', '4'),\n",
    "        ('channel', 'desktop-web'),\n",
    "        ('country', 'IN'),\n",
    "        ('keyStoreDataversion', 'q1av6t0-39'),\n",
    "        ('limit', '72'),\n",
    "    )\n",
    "\n",
    "    #response\n",
    "    response = requests.get('https://www.asos.com/api/product/search/v2/categories/28233', headers=headers, params=params)\n",
    "    #json\n",
    "    results_json = response.json()\n",
    "    #result\n",
    "    result_items = results_json['products']\n",
    "\n",
    "    for result in result_items:\n",
    "\n",
    "        #name\n",
    "        name.append(result['name'])\n",
    "    \n",
    "        #brandname\n",
    "        brandname.append(result['brandName'])\n",
    "    \n",
    "        #current_price\n",
    "        current_price.append(result['price']['current']['text'])\n",
    "    \n",
    "        #previous_price\n",
    "        previous_price.append(result['price']['previous']['text'])"
   ]
  },
  {
   "cell_type": "code",
   "execution_count": 23,
   "id": "ef19d16f-0d3c-44ac-928b-152328fe4113",
   "metadata": {},
   "outputs": [],
   "source": [
    "asos_df = pd.DataFrame({'Name': name, 'BrandName': brandname, 'Current Price': current_price, 'Previous Name': previous_price})"
   ]
  },
  {
   "cell_type": "code",
   "execution_count": 24,
   "id": "a95aed0f-4214-46e1-96e0-02802e326e2d",
   "metadata": {},
   "outputs": [
    {
     "data": {
      "text/html": [
       "<div>\n",
       "<style scoped>\n",
       "    .dataframe tbody tr th:only-of-type {\n",
       "        vertical-align: middle;\n",
       "    }\n",
       "\n",
       "    .dataframe tbody tr th {\n",
       "        vertical-align: top;\n",
       "    }\n",
       "\n",
       "    .dataframe thead th {\n",
       "        text-align: right;\n",
       "    }\n",
       "</style>\n",
       "<table border=\"1\" class=\"dataframe\">\n",
       "  <thead>\n",
       "    <tr style=\"text-align: right;\">\n",
       "      <th></th>\n",
       "      <th>Name</th>\n",
       "      <th>BrandName</th>\n",
       "      <th>Current Price</th>\n",
       "      <th>Previous Name</th>\n",
       "    </tr>\n",
       "  </thead>\n",
       "  <tbody>\n",
       "    <tr>\n",
       "      <th>0</th>\n",
       "      <td>New Balance collegiate logo cap in green</td>\n",
       "      <td>New Balance</td>\n",
       "      <td>£8.50</td>\n",
       "      <td>£24.00</td>\n",
       "    </tr>\n",
       "    <tr>\n",
       "      <th>1</th>\n",
       "      <td>New Balance cap with embroidered logo in olive</td>\n",
       "      <td>New Balance</td>\n",
       "      <td>£11.00</td>\n",
       "      <td>£21.00</td>\n",
       "    </tr>\n",
       "    <tr>\n",
       "      <th>2</th>\n",
       "      <td>ASOS DESIGN 6mm glass faux pearl necklace in w...</td>\n",
       "      <td>ASOS DESIGN</td>\n",
       "      <td>£6.00</td>\n",
       "      <td>£8.50</td>\n",
       "    </tr>\n",
       "    <tr>\n",
       "      <th>3</th>\n",
       "      <td>COLLUSION knitted balaclava in ecru</td>\n",
       "      <td>Collusion</td>\n",
       "      <td>£5.50</td>\n",
       "      <td>£10.99</td>\n",
       "    </tr>\n",
       "    <tr>\n",
       "      <th>4</th>\n",
       "      <td>ASOS DESIGN 2 pack swim shorts in mid length i...</td>\n",
       "      <td>ASOS DESIGN</td>\n",
       "      <td>£12.00</td>\n",
       "      <td>£30.00</td>\n",
       "    </tr>\n",
       "    <tr>\n",
       "      <th>...</th>\n",
       "      <td>...</td>\n",
       "      <td>...</td>\n",
       "      <td>...</td>\n",
       "      <td>...</td>\n",
       "    </tr>\n",
       "    <tr>\n",
       "      <th>1435</th>\n",
       "      <td>ASOS DESIGN knitted muscle vest with contrast ...</td>\n",
       "      <td>ASOS DESIGN</td>\n",
       "      <td>£11.00</td>\n",
       "      <td>£27.00</td>\n",
       "    </tr>\n",
       "    <tr>\n",
       "      <th>1436</th>\n",
       "      <td>ASOS DESIGN relaxed revere shirt with broderie...</td>\n",
       "      <td>ASOS DESIGN</td>\n",
       "      <td>£15.00</td>\n",
       "      <td>£37.00</td>\n",
       "    </tr>\n",
       "    <tr>\n",
       "      <th>1437</th>\n",
       "      <td>ASOS DESIGN relaxed revere collar in cotton me...</td>\n",
       "      <td>ASOS DESIGN</td>\n",
       "      <td>£22.00</td>\n",
       "      <td>£40.00</td>\n",
       "    </tr>\n",
       "    <tr>\n",
       "      <th>1438</th>\n",
       "      <td>Vans squared off sunglasses in tortoiseshell</td>\n",
       "      <td>Vans</td>\n",
       "      <td>£22.50</td>\n",
       "      <td>£28.00</td>\n",
       "    </tr>\n",
       "    <tr>\n",
       "      <th>1439</th>\n",
       "      <td>ASOS DESIGN boxy oversized revere linen mix ch...</td>\n",
       "      <td>ASOS DESIGN</td>\n",
       "      <td>£13.50</td>\n",
       "      <td>£27.00</td>\n",
       "    </tr>\n",
       "  </tbody>\n",
       "</table>\n",
       "<p>1440 rows × 4 columns</p>\n",
       "</div>"
      ],
      "text/plain": [
       "                                                   Name    BrandName  \\\n",
       "0              New Balance collegiate logo cap in green  New Balance   \n",
       "1        New Balance cap with embroidered logo in olive  New Balance   \n",
       "2     ASOS DESIGN 6mm glass faux pearl necklace in w...  ASOS DESIGN   \n",
       "3                   COLLUSION knitted balaclava in ecru    Collusion   \n",
       "4     ASOS DESIGN 2 pack swim shorts in mid length i...  ASOS DESIGN   \n",
       "...                                                 ...          ...   \n",
       "1435  ASOS DESIGN knitted muscle vest with contrast ...  ASOS DESIGN   \n",
       "1436  ASOS DESIGN relaxed revere shirt with broderie...  ASOS DESIGN   \n",
       "1437  ASOS DESIGN relaxed revere collar in cotton me...  ASOS DESIGN   \n",
       "1438       Vans squared off sunglasses in tortoiseshell         Vans   \n",
       "1439  ASOS DESIGN boxy oversized revere linen mix ch...  ASOS DESIGN   \n",
       "\n",
       "     Current Price Previous Name  \n",
       "0            £8.50        £24.00  \n",
       "1           £11.00        £21.00  \n",
       "2            £6.00         £8.50  \n",
       "3            £5.50        £10.99  \n",
       "4           £12.00        £30.00  \n",
       "...            ...           ...  \n",
       "1435        £11.00        £27.00  \n",
       "1436        £15.00        £37.00  \n",
       "1437        £22.00        £40.00  \n",
       "1438        £22.50        £28.00  \n",
       "1439        £13.50        £27.00  \n",
       "\n",
       "[1440 rows x 4 columns]"
      ]
     },
     "execution_count": 24,
     "metadata": {},
     "output_type": "execute_result"
    }
   ],
   "source": [
    "asos_df"
   ]
  },
  {
   "cell_type": "code",
   "execution_count": 25,
   "id": "21f891bd-b1b5-4b7b-88d7-c87e8027209f",
   "metadata": {},
   "outputs": [],
   "source": [
    "asos_df.to_excel(\"asos_multiple_pages.xlsx\", index=False)"
   ]
  },
  {
   "cell_type": "code",
   "execution_count": null,
   "id": "f083ad06-0c4b-4897-904e-b7eb6ba3dd2e",
   "metadata": {},
   "outputs": [],
   "source": []
  }
 ],
 "metadata": {
  "kernelspec": {
   "display_name": "Python 3 (ipykernel)",
   "language": "python",
   "name": "python3"
  },
  "language_info": {
   "codemirror_mode": {
    "name": "ipython",
    "version": 3
   },
   "file_extension": ".py",
   "mimetype": "text/x-python",
   "name": "python",
   "nbconvert_exporter": "python",
   "pygments_lexer": "ipython3",
   "version": "3.12.0"
  }
 },
 "nbformat": 4,
 "nbformat_minor": 5
}
